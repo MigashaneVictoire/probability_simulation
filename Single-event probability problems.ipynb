{
 "cells": [
  {
   "cell_type": "markdown",
   "id": "c742fb56",
   "metadata": {},
   "source": [
    "# Single-event probability problems\n",
    "\n",
    "Assum 100,000 simulations ran for each question.\n",
    "\n",
    "\n",
    "1. The probability of rolling a 3 on a fair six-sided die is 1/6 or approximately 0.1667 or 16.67%."
   ]
  },
  {
   "cell_type": "code",
   "execution_count": null,
   "id": "b389ec24",
   "metadata": {},
   "outputs": [],
   "source": []
  },
  {
   "cell_type": "markdown",
   "id": "8f79c60a",
   "metadata": {},
   "source": [
    "2. The probability of selecting a red ball from a jar containing 10 red balls and 5 blue balls is 10/15 or approximately 0.6667 or 66.67%."
   ]
  },
  {
   "cell_type": "code",
   "execution_count": null,
   "id": "3c79e0b4",
   "metadata": {},
   "outputs": [],
   "source": []
  },
  {
   "cell_type": "markdown",
   "id": "2e0af567",
   "metadata": {},
   "source": [
    "3. The probability of drawing a heart followed by a diamond from a standard deck of 52 playing cards, without replacement, is (13/52) * (13/51) or approximately 0.0588 or 5.88%."
   ]
  },
  {
   "cell_type": "code",
   "execution_count": null,
   "id": "be8fceac",
   "metadata": {},
   "outputs": [],
   "source": []
  },
  {
   "cell_type": "markdown",
   "id": "2631f224",
   "metadata": {},
   "source": [
    "4. The probability of selecting a red marble followed by a blue marble from a box containing 4 red marbles, 3 blue marbles, and 2 green marbles, without replacement, is (4/9) * (3/8) or approximately 0.1667 or 16.67%."
   ]
  },
  {
   "cell_type": "code",
   "execution_count": null,
   "id": "d4550815",
   "metadata": {},
   "outputs": [],
   "source": []
  },
  {
   "cell_type": "markdown",
   "id": "810bf815",
   "metadata": {},
   "source": [
    "5. The probability of drawing two green balls from a bag containing 10 yellow balls, 8 green balls, and 7 blue balls, without replacement, is (8/25) * (7/24) or approximately 0.0923 or 9.23%."
   ]
  },
  {
   "cell_type": "code",
   "execution_count": null,
   "id": "6f70ef1d",
   "metadata": {},
   "outputs": [],
   "source": []
  },
  {
   "cell_type": "markdown",
   "id": "02696d45",
   "metadata": {},
   "source": [
    "6. The probability of landing on an even number when spinning a spinner divided into 8 equal sections numbered from 1 to 8 is 4/8 or 1/2 or approximately 0.5 or 50%."
   ]
  },
  {
   "cell_type": "code",
   "execution_count": null,
   "id": "cec1e5de",
   "metadata": {},
   "outputs": [],
   "source": []
  },
  {
   "cell_type": "markdown",
   "id": "4ab856b1",
   "metadata": {},
   "source": [
    "7. The probability of selecting two black socks from a box containing 5 black socks and 3 white socks, without replacement, is (5/8) * (4/7) or approximately 0.3571 or 35.71%."
   ]
  },
  {
   "cell_type": "code",
   "execution_count": null,
   "id": "48e45f88",
   "metadata": {},
   "outputs": [],
   "source": []
  },
  {
   "cell_type": "markdown",
   "id": "911ef175",
   "metadata": {},
   "source": [
    "8. The probability of drawing a face card (jack, queen, or king) from a shuffled deck of 52 playing cards is 12/52 or 3/13 or approximately 0.2308 or 23.08%."
   ]
  },
  {
   "cell_type": "code",
   "execution_count": null,
   "id": "affdde96",
   "metadata": {},
   "outputs": [],
   "source": []
  },
  {
   "cell_type": "markdown",
   "id": "776a423a",
   "metadata": {},
   "source": [
    "9. The probability of selecting a red ball on the first draw and a green ball on the second draw from a bag containing 6 red balls, 4 blue balls, and 5 green balls, with replacement, is (6/15) * (5/15) or approximately 0.1333 or 13.33%."
   ]
  },
  {
   "cell_type": "code",
   "execution_count": null,
   "id": "bf84da55",
   "metadata": {},
   "outputs": [],
   "source": []
  },
  {
   "cell_type": "markdown",
   "id": "634bc956",
   "metadata": {},
   "source": [
    "10. The probability of drawing a multiple of 3 from a deck of 30 cards, numbered from 1 to 30, is 10/30 or 1/3 or approximately 0.3333 or 33.33%."
   ]
  },
  {
   "cell_type": "code",
   "execution_count": null,
   "id": "e43365ec",
   "metadata": {},
   "outputs": [],
   "source": []
  }
 ],
 "metadata": {
  "kernelspec": {
   "display_name": "Python 3 (ipykernel)",
   "language": "python",
   "name": "python3"
  },
  "language_info": {
   "codemirror_mode": {
    "name": "ipython",
    "version": 3
   },
   "file_extension": ".py",
   "mimetype": "text/x-python",
   "name": "python",
   "nbconvert_exporter": "python",
   "pygments_lexer": "ipython3",
   "version": "3.10.9"
  }
 },
 "nbformat": 4,
 "nbformat_minor": 5
}
