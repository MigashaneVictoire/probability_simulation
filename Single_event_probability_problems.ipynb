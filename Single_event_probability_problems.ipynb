{
 "cells": [
  {
   "cell_type": "markdown",
   "id": "0e7efb61",
   "metadata": {},
   "source": [
    "# Single-event probability problems\n",
    "\n",
    "Assum 100,000 simulations ran for each question."
   ]
  },
  {
   "cell_type": "code",
   "execution_count": 1,
   "id": "649b7fcc",
   "metadata": {},
   "outputs": [],
   "source": [
    "# set my imprts\n",
    "import numpy as np\n",
    "\n",
    "# set my random seed\n",
    "np.random.seed(123)\n",
    "\n",
    "# set global iterations\n",
    "iterations = 100_000"
   ]
  },
  {
   "cell_type": "markdown",
   "id": "c742fb56",
   "metadata": {},
   "source": [
    "1. If you roll a fair six-sided die, what is the probability of rolling a 3?"
   ]
  },
  {
   "cell_type": "code",
   "execution_count": 2,
   "id": "b389ec24",
   "metadata": {},
   "outputs": [
    {
     "data": {
      "text/plain": [
       "0.17018"
      ]
     },
     "execution_count": 2,
     "metadata": {},
     "output_type": "execute_result"
    }
   ],
   "source": [
    "# numbers contained by my die\n",
    "die = np.arange(1,7)\n",
    "\n",
    "# run iterations and make random choices\n",
    "rand_selection = np.random.choice(a= die, size=iterations)\n",
    "\n",
    "# count all 3 in the rand_selection\n",
    "rand_selection = (rand_selection == 3).sum()\n",
    "\n",
    "# get the mean\n",
    "rand_selection.mean() / iterations"
   ]
  },
  {
   "cell_type": "markdown",
   "id": "8f79c60a",
   "metadata": {},
   "source": [
    "    - The probability of rolling a 3 on a fair six-sided die is 1/6 or approximately 0.1657.\n",
    "\n",
    "2. A jar contains 10 red balls and 5 blue balls. If you randomly select one ball from the jar, what is the probability of selecting a red ball?."
   ]
  },
  {
   "cell_type": "code",
   "execution_count": 3,
   "id": "3c79e0b4",
   "metadata": {},
   "outputs": [
    {
     "data": {
      "text/plain": [
       "0.66586"
      ]
     },
     "execution_count": 3,
     "metadata": {},
     "output_type": "execute_result"
    }
   ],
   "source": [
    "# selection options in the jar\n",
    "jar = [\"red\", \"blue\"]\n",
    "\n",
    "# assign weights to each option in the jar\n",
    "weights = [10/15, 5/15]\n",
    "\n",
    "# run iterations and make random choices based on given weights\n",
    "rand_selection = np.random.choice(a=jar,size=iterations,p=weights)\n",
    "\n",
    "# count all red balls in the jar\n",
    "rand_selection = (rand_selection == \"red\").sum()\n",
    "\n",
    "# get the mean and persantage\n",
    "rand_selection.mean() / iterations"
   ]
  },
  {
   "cell_type": "markdown",
   "id": "2e0af567",
   "metadata": {},
   "source": [
    "    - The probability of selecting a red ball from a jar containing 10 red balls and 5 blue balls is 10/15 or approximately 0.668.\n",
    "    \n",
    "3. Two cards are drawn successively (without replacement) from a standard deck of 52 playing cards. What is the probability that the first card drawn is a heart and the second card drawn is a diamond?"
   ]
  },
  {
   "cell_type": "code",
   "execution_count": 4,
   "id": "be8fceac",
   "metadata": {},
   "outputs": [
    {
     "data": {
      "text/plain": [
       "0.062476609"
      ]
     },
     "execution_count": 4,
     "metadata": {},
     "output_type": "execute_result"
    }
   ],
   "source": [
    "# set card draw options\n",
    "card_draw_1 = [\"heart\", \"Other\"]\n",
    "weights_1 = [13/52, 39/52]\n",
    "\n",
    "card_draw_2 = [\"diamond\", \"Other\"]\n",
    "weights_2 = [13/51, 38/51] # 51 beacuse card 1 was not replaced\n",
    "\n",
    "# run iterations and make random choices based on given weights\n",
    "rand_selection_1 = np.random.choice(a= card_draw_1, size=iterations, p=weights_1)\n",
    "rand_selection_2 = np.random.choice(a= card_draw_2, size=iterations, p=weights_2)\n",
    "\n",
    "# count all hearts and diamonds\n",
    "rand_selection_1 = (rand_selection_1 == \"heart\").sum()\n",
    "rand_selection_2 = (rand_selection_2 == \"diamond\").sum()\n",
    "\n",
    "# get the mean and persantage\n",
    "rand_selection_1 = rand_selection_1.mean() / iterations\n",
    "rand_selection_2 = rand_selection_2.mean() / iterations\n",
    "\n",
    "# multiply the probalilities\n",
    "rand_selection_1 * rand_selection_2"
   ]
  },
  {
   "cell_type": "markdown",
   "id": "2631f224",
   "metadata": {},
   "source": [
    "    - The probability of drawing a heart followed by a diamond from a standard deck of 52 playing cards, without replacement, is (13/52) * (13/51) or approximately 0.0638.\n",
    "\n",
    "4. A box contains 4 red marbles, 3 blue marbles, and 2 green marbles. If you randomly select two marbles from the box without replacement, what is the probability of selecting a red marble first and then a blue marble?"
   ]
  },
  {
   "cell_type": "code",
   "execution_count": 5,
   "id": "d4550815",
   "metadata": {},
   "outputs": [
    {
     "data": {
      "text/plain": [
       "0.16557418429999998"
      ]
     },
     "execution_count": 5,
     "metadata": {},
     "output_type": "execute_result"
    }
   ],
   "source": [
    "# set marble draw events\n",
    "marble_draw_1 = [\"red\", \"Other\"]\n",
    "weights_1 = [4/9, 5/9]\n",
    "\n",
    "marble_draw_2 = [\"blue\", \"Other\"]\n",
    "weights_2 = [3/8, 5/8] # 8 beacuse marble 1 was not replaced\n",
    "\n",
    "# run iterations and make random choices based on given weights\n",
    "rand_selection_1 = np.random.choice(a= marble_draw_1, size=iterations, p=weights_1)\n",
    "rand_selection_2 = np.random.choice(a= marble_draw_2, size=iterations, p=weights_2)\n",
    "\n",
    "# count all red and blue marbles\n",
    "rand_selection_1 = (rand_selection_1 == \"red\").sum()\n",
    "rand_selection_2 = (rand_selection_2 == \"blue\").sum()\n",
    "\n",
    "# get probability\n",
    "rand_selection_1 = rand_selection_1.mean() / iterations\n",
    "rand_selection_2 = rand_selection_2.mean() / iterations\n",
    "\n",
    "# multiply the probalilities\n",
    "rand_selection_1 * rand_selection_2"
   ]
  },
  {
   "cell_type": "markdown",
   "id": "810bf815",
   "metadata": {},
   "source": [
    "    - The probability of selecting a red marble followed by a blue marble from a box containing 4 red marbles, 3 blue marbles, and 2 green marbles, without replacement, is (4/9) * (3/8) or approximately 0.1667.\n",
    "\n",
    "5. In a game, you have a bag containing 10 yellow balls, 8 green balls, and 7 blue balls. If you draw two balls without replacement, what is the probability of drawing two green balls?"
   ]
  },
  {
   "cell_type": "code",
   "execution_count": 6,
   "id": "6f70ef1d",
   "metadata": {},
   "outputs": [
    {
     "data": {
      "text/plain": [
       "0.10239"
      ]
     },
     "execution_count": 6,
     "metadata": {},
     "output_type": "execute_result"
    }
   ],
   "source": [
    "# set ball draw options\n",
    "ball_draw = [\"yellow\",\"green\", \"blue\"]\n",
    "weights = [10/25, 8/25, 7/25]\n",
    "n_balls = 2\n",
    "\n",
    "# run iterations and make random choices based on given weights\n",
    "rand_selection = np.random.choice(a= ball_draw, size=(iterations, n_balls), p=weights)\n",
    "rand_selection\n",
    "                                \n",
    "# count all green that appears twice\n",
    "rand_selection = (rand_selection == \"green\").sum(axis=1) == 2\n",
    "\n",
    "# get probability\n",
    "rand_selection.mean()"
   ]
  },
  {
   "cell_type": "markdown",
   "id": "02696d45",
   "metadata": {},
   "source": [
    "    - The probability of drawing two green balls from a bag containing 10 yellow balls, 8 green balls, and 7 blue balls, without replacement, is (8/25) * (7/24) or approximately 0.10239.\n",
    "\n",
    "6. A spinner is divided into 8 equal sections numbered from 1 to 8. If you spin the spinner once, what is the probability of landing on an even number?"
   ]
  },
  {
   "cell_type": "code",
   "execution_count": 17,
   "id": "cec1e5de",
   "metadata": {},
   "outputs": [
    {
     "data": {
      "text/plain": [
       "0.50268"
      ]
     },
     "execution_count": 17,
     "metadata": {},
     "output_type": "execute_result"
    }
   ],
   "source": [
    "# spinner options\n",
    "spinner = np.arange(1,9)\n",
    "\n",
    "# run iterations and make random choices\n",
    "rand_selection = np.random.choice(spinner, iterations)\n",
    "\n",
    "# count evens in rand_selection\n",
    "rand_selection = ((rand_selection % 2) == 0).sum()\n",
    "\n",
    "# get probability\n",
    "rand_selection.mean() / iterations"
   ]
  },
  {
   "cell_type": "markdown",
   "id": "4ab856b1",
   "metadata": {},
   "source": [
    "    - The probability of landing on an even number when spinning a spinner divided into 8 equal sections numbered from 1 to 8 is 4/8 or 1/2 or approximately 0.50268.\n",
    "\n",
    "7. A box contains 5 black socks and 3 white socks. If you randomly select two socks from the box without replacement, what is the probability of selecting two black socks?"
   ]
  },
  {
   "cell_type": "code",
   "execution_count": 37,
   "id": "48e45f88",
   "metadata": {},
   "outputs": [
    {
     "data": {
      "text/plain": [
       "0.25032"
      ]
     },
     "execution_count": 37,
     "metadata": {},
     "output_type": "execute_result"
    }
   ],
   "source": [
    "# socks options\n",
    "socks = [\"black\", \"white\"]\n",
    "weights = [5/8, 3/8]\n",
    "\n",
    "# run iterations and make random choices based on given weights\n",
    "rand_selection = np.random.choice(socks, (iterations, n_socks), weights)\n",
    "\n",
    "# count all socks where they are both back\n",
    "rand_selection = (rand_selection == \"black\").all(axis=1).sum()\n",
    "\n",
    "# get probability\n",
    "rand_selection.mean() / iterations"
   ]
  },
  {
   "cell_type": "markdown",
   "id": "911ef175",
   "metadata": {},
   "source": [
    "    - The probability of selecting two black socks from a box containing 5 black socks and 3 white socks, without replacement, is (5/8) * (4/7) or approximately 0.2509.\n",
    "\n",
    "8. A deck of 52 playing cards is shuffled thoroughly and a card is drawn at random. What is the probability of drawing a face card (jack, queen, or king)?"
   ]
  },
  {
   "cell_type": "code",
   "execution_count": 13,
   "id": "affdde96",
   "metadata": {},
   "outputs": [
    {
     "data": {
      "text/plain": [
       "0.23265"
      ]
     },
     "execution_count": 13,
     "metadata": {},
     "output_type": "execute_result"
    }
   ],
   "source": [
    "# cards options\n",
    "cards = [\"face\",\"other\"]\n",
    "weights = [3/13, 10/13]\n",
    "\n",
    "# run iterations and make random choices based on given weights\n",
    "rand_selection = np.random.choice(a=cards, size=iterations, p=weights)\n",
    "\n",
    "# count face cards\n",
    "rand_selection = (rand_selection == \"face\").sum()\n",
    "\n",
    "# get probability\n",
    "rand_selection.mean() / iterations"
   ]
  },
  {
   "cell_type": "markdown",
   "id": "776a423a",
   "metadata": {},
   "source": [
    "    - The probability of drawing a face card (jack, queen, or king) from a shuffled deck of 52 playing cards is 12/52 or 3/13 or approximately 0.23265.\n",
    "\n",
    "9. A bag contains 6 red balls, 4 blue balls, and 5 green balls. If you randomly select two balls with replacement, what is the probability of selecting a red ball on the first draw and a green ball on the second draw?"
   ]
  },
  {
   "cell_type": "code",
   "execution_count": 34,
   "id": "bf84da55",
   "metadata": {},
   "outputs": [
    {
     "data": {
      "text/plain": [
       "0.134905924"
      ]
     },
     "execution_count": 34,
     "metadata": {},
     "output_type": "execute_result"
    }
   ],
   "source": [
    "# set ball draw options\n",
    "ball_draw = [\"red\",\"bue\", \"green\"]\n",
    "weights = [6/15, 4/15, 5/15]\n",
    "n_balls = 2\n",
    "\n",
    "# run iterations and make random choices based on given weights\n",
    "rand_selection = np.random.choice(a= ball_draw, size=(iterations, n_balls), p=weights)\n",
    "rand_selection\n",
    "                                \n",
    "# count all red that appears at the first index\n",
    "# count all greens that appears at the second index\n",
    "rand_selection_1 = (rand_selection == \"red\").sum(axis=0)\n",
    "rand_selection_2 = (rand_selection == \"green\").sum(axis=0)\n",
    "\n",
    "# get probability\n",
    "red = rand_selection_1[0] / iterations\n",
    "green = rand_selection_2[1] / iterations\n",
    "\n",
    "# multipy the probalilities\n",
    "red * green"
   ]
  },
  {
   "cell_type": "markdown",
   "id": "634bc956",
   "metadata": {},
   "source": [
    "    - The probability of selecting a red ball on the first draw and a green ball on the second draw from a bag containing 6 red balls, 4 blue balls, and 5 green balls, with replacement, is (6/15) * (5/15) or approximately 0.1349.\n",
    "\n",
    "10. In a game, you have a deck of 30 cards, numbered from 1 to 30. If you draw a card at random, what is the probability of drawing a multiple of 3?"
   ]
  },
  {
   "cell_type": "code",
   "execution_count": 37,
   "id": "e43365ec",
   "metadata": {},
   "outputs": [
    {
     "data": {
      "text/plain": [
       "0.33385"
      ]
     },
     "execution_count": 37,
     "metadata": {},
     "output_type": "execute_result"
    }
   ],
   "source": [
    "# deck options\n",
    "deck = np.arange(1,31)\n",
    "\n",
    "# run iterations and make random choices\n",
    "rand_selection = np.random.choice(a=deck, size= iterations)\n",
    "\n",
    "# count all numbers divisible by 3\n",
    "rand_selection = ((rand_selection % 3) == 0).sum()\n",
    "\n",
    "# get probability\n",
    "rand_selection / iterations"
   ]
  },
  {
   "cell_type": "markdown",
   "id": "d5a01039",
   "metadata": {},
   "source": [
    "    - The probability of drawing a multiple of 3 from a deck of 30 cards, numbered from 1 to 30, is 10/30 or 1/3 or approximately 0.3338."
   ]
  }
 ],
 "metadata": {
  "kernelspec": {
   "display_name": "Python 3 (ipykernel)",
   "language": "python",
   "name": "python3"
  },
  "language_info": {
   "codemirror_mode": {
    "name": "ipython",
    "version": 3
   },
   "file_extension": ".py",
   "mimetype": "text/x-python",
   "name": "python",
   "nbconvert_exporter": "python",
   "pygments_lexer": "ipython3",
   "version": "3.10.9"
  }
 },
 "nbformat": 4,
 "nbformat_minor": 5
}
