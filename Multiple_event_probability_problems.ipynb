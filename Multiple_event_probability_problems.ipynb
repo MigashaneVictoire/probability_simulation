{
 "cells": [
  {
   "cell_type": "markdown",
   "id": "02719ccb",
   "metadata": {},
   "source": [
    "# Multiple-event probability problems\n",
    "\n",
    "Assum 100,000 simulations ran for each question.\n",
    "\n",
    "1. The probability of rolling a sum of 7 on two dice is approximately 0.1667 or 16.67%."
   ]
  },
  {
   "cell_type": "code",
   "execution_count": null,
   "id": "8b24e949",
   "metadata": {},
   "outputs": [],
   "source": []
  },
  {
   "cell_type": "markdown",
   "id": "7e49a8f3",
   "metadata": {},
   "source": [
    "2. The probability of selecting exactly two red balls and one blue ball is approximately 0.2867 or 28.67%."
   ]
  },
  {
   "cell_type": "code",
   "execution_count": null,
   "id": "ff6bee2b",
   "metadata": {},
   "outputs": [],
   "source": []
  },
  {
   "cell_type": "markdown",
   "id": "a501d191",
   "metadata": {},
   "source": [
    "3. The probability of drawing two red marbles from the box without replacement is approximately 0.5455 or 54.55%."
   ]
  },
  {
   "cell_type": "code",
   "execution_count": null,
   "id": "761f8564",
   "metadata": {},
   "outputs": [],
   "source": []
  },
  {
   "cell_type": "markdown",
   "id": "3f6408f7",
   "metadata": {},
   "source": [
    "4. The probability that the sum of two cards drawn from a deck of 40 cards is divisible by 5 is approximately 0.285 or 28.5%."
   ]
  },
  {
   "cell_type": "code",
   "execution_count": null,
   "id": "bcec6764",
   "metadata": {},
   "outputs": [],
   "source": []
  },
  {
   "cell_type": "markdown",
   "id": "891559da",
   "metadata": {},
   "source": [
    "5. The probability of drawing a red ball on the first draw and a blue ball on the second draw, with replacement, is approximately 0.2144 or 21.44%."
   ]
  },
  {
   "cell_type": "code",
   "execution_count": null,
   "id": "285f9dd1",
   "metadata": {},
   "outputs": [],
   "source": []
  },
  {
   "cell_type": "markdown",
   "id": "dc743ad8",
   "metadata": {},
   "source": [
    "6. The probability of selecting two red socks and one white sock when three socks are drawn without replacement is approximately 0.3312 or 33.12%."
   ]
  },
  {
   "cell_type": "code",
   "execution_count": null,
   "id": "09a0cbf1",
   "metadata": {},
   "outputs": [],
   "source": []
  },
  {
   "cell_type": "markdown",
   "id": "27fdf7b9",
   "metadata": {},
   "source": [
    "7. The probability of getting a full house (three cards of one rank and two cards of another rank) when drawing five cards from a standard deck of 52 cards is approximately 0.0014 or 0.14%."
   ]
  },
  {
   "cell_type": "code",
   "execution_count": null,
   "id": "39f78038",
   "metadata": {},
   "outputs": [],
   "source": []
  },
  {
   "cell_type": "markdown",
   "id": "c7d4b100",
   "metadata": {},
   "source": [
    "8. The probability of selecting at least one black ball and one white ball when three balls are drawn without replacement from a box containing 6 black balls, 4 white balls, and 5 green balls is approximately 0.7588 or 75.88%."
   ]
  },
  {
   "cell_type": "code",
   "execution_count": null,
   "id": "7e6d58e6",
   "metadata": {},
   "outputs": [],
   "source": []
  },
  {
   "cell_type": "markdown",
   "id": "70e50399",
   "metadata": {},
   "source": [
    "9. The probability of getting at least one head when two coins are flipped is approximately 0.7503 or 75.03%."
   ]
  },
  {
   "cell_type": "code",
   "execution_count": null,
   "id": "d5888ebe",
   "metadata": {},
   "outputs": [],
   "source": []
  },
  {
   "cell_type": "markdown",
   "id": "aab0ee88",
   "metadata": {},
   "source": [
    "10. The probability of selecting two marbles of different colors when two marbles are drawn without replacement from a jar containing 5 red marbles, 3 blue marbles, and 2 green marbles is approximately 0.6813 or 68.13%."
   ]
  },
  {
   "cell_type": "code",
   "execution_count": null,
   "id": "a5158952",
   "metadata": {},
   "outputs": [],
   "source": []
  },
  {
   "cell_type": "code",
   "execution_count": null,
   "id": "d6a0870f",
   "metadata": {},
   "outputs": [],
   "source": []
  }
 ],
 "metadata": {
  "kernelspec": {
   "display_name": "Python 3 (ipykernel)",
   "language": "python",
   "name": "python3"
  },
  "language_info": {
   "codemirror_mode": {
    "name": "ipython",
    "version": 3
   },
   "file_extension": ".py",
   "mimetype": "text/x-python",
   "name": "python",
   "nbconvert_exporter": "python",
   "pygments_lexer": "ipython3",
   "version": "3.10.9"
  }
 },
 "nbformat": 4,
 "nbformat_minor": 5
}
