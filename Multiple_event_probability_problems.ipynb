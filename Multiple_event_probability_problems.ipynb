{
 "cells": [
  {
   "cell_type": "markdown",
   "id": "8d258a84",
   "metadata": {},
   "source": [
    "# Multiple-event probability problems\n",
    "\n",
    "Assum 100,000 simulations ran for each question."
   ]
  },
  {
   "cell_type": "code",
   "execution_count": 41,
   "id": "e954fe11",
   "metadata": {},
   "outputs": [],
   "source": [
    "# set imports\n",
    "import numpy as np\n",
    "import seaborn as sns\n",
    "import matplotlib.pyplot as plt\n",
    "\n",
    "# set my random seed\n",
    "# np.random.seed(43)\n",
    "\n",
    "# gobal number of iterations\n",
    "iterations = 100_000"
   ]
  },
  {
   "cell_type": "markdown",
   "id": "02719ccb",
   "metadata": {},
   "source": [
    "1. Two dice are rolled. What is the probability that the sum of the two numbers rolled is equal to 7?"
   ]
  },
  {
   "cell_type": "code",
   "execution_count": 2,
   "id": "8b24e949",
   "metadata": {},
   "outputs": [
    {
     "data": {
      "text/plain": [
       "0.16631"
      ]
     },
     "execution_count": 2,
     "metadata": {},
     "output_type": "execute_result"
    }
   ],
   "source": [
    "# dice creation\n",
    "dice = np.arange(1,7)\n",
    "num_dice = 2\n",
    "\n",
    "# ran iterations and make random choices\n",
    "rand_selection = np.random.choice(a=dice, size=(iterations, num_dice))\n",
    "\n",
    "# find sum of two equaling 7\n",
    "rand_selection = rand_selection.sum(axis=1) == 7\n",
    "\n",
    "\n",
    "# get mean\n",
    "rand_selection.mean()"
   ]
  },
  {
   "cell_type": "markdown",
   "id": "7e49a8f3",
   "metadata": {},
   "source": [
    "    - The probability of rolling a sum of 7 on two dice is approximately 0.1667 or 16.67%.\n",
    "\n",
    "2. A bag contains 4 red balls, 3 blue balls, and 5 green balls. If you randomly select three balls without replacement, what is the probability of selecting exactly two red balls and one blue ball?"
   ]
  },
  {
   "cell_type": "code",
   "execution_count": 3,
   "id": "ff6bee2b",
   "metadata": {},
   "outputs": [
    {
     "data": {
      "text/plain": [
       "0.08322"
      ]
     },
     "execution_count": 3,
     "metadata": {},
     "output_type": "execute_result"
    }
   ],
   "source": [
    "balls = [\"red\", \"blue\", \"green\"]\n",
    "weight = [4/12, 3/12, 5/12]\n",
    "n_event = 3\n",
    "\n",
    "iterations = 100_000\n",
    "rand_selection = np.random.choice(a=balls, size=(iterations, n_event), p=weight)\n",
    "\n",
    "# Count the number of selections with exactly two red balls and one blue ball\n",
    "rand_selection = ((rand_selection == \"red\").sum(axis=1) == 2) & ((rand_selection == \"blue\").sum(axis=1) == 1)\n",
    "\n",
    "rand_selection = rand_selection.astype(int) # make then integers for the plot\n",
    "rand_selection_prob = rand_selection.mean()\n",
    "rand_selection_prob"
   ]
  },
  {
   "cell_type": "code",
   "execution_count": 4,
   "id": "f1888bf4",
   "metadata": {},
   "outputs": [
    {
     "data": {
      "image/png": "[encoded data removed]",
      "text/plain": [
       "<Figure size 500x300 with 1 Axes>"
      ]
     },
     "metadata": {},
     "output_type": "display_data"
    }
   ],
   "source": [
    "plt.figure(figsize=(5,3))\n",
    "sns.histplot(rand_selection)\n",
    "\n",
    "plt.xlabel(\"Probability\")\n",
    "plt.ylabel(\"Frequency\")\n",
    "plt.title(\"Distribution of Probability\")\n",
    "\n",
    "plt.xticks([0,1])\n",
    "plt.margins(x=.5)\n",
    "plt.show()"
   ]
  },
  {
   "cell_type": "markdown",
   "id": "a501d191",
   "metadata": {},
   "source": [
    "    - The probability of selecting exactly two red balls and one blue ball is approximately 0.08448.\n",
    "\n",
    "3. A box contains 6 red marbles and 4 white marbles. Two marbles are drawn from the box without replacement. What is the probability that both marbles drawn are red?"
   ]
  },
  {
   "cell_type": "code",
   "execution_count": 5,
   "id": "761f8564",
   "metadata": {},
   "outputs": [
    {
     "data": {
      "text/plain": [
       "0.25114"
      ]
     },
     "execution_count": 5,
     "metadata": {},
     "output_type": "execute_result"
    }
   ],
   "source": [
    "marble = [\"red\",  \"white\"]\n",
    "weight = [6/10, 4/10]\n",
    "marb_draw = 2\n",
    "\n",
    "rand_selection = np.random.choice(marble, (iterations,marb_draw), weight)\n",
    "\n",
    "rand_selection = (rand_selection == \"red\").sum(axis=1) == 2\n",
    "rand_selection.mean()"
   ]
  },
  {
   "cell_type": "markdown",
   "id": "3f6408f7",
   "metadata": {},
   "source": [
    "    - The probability of drawing two red marbles from the box without replacement is approximately 0.249.\n",
    "\n",
    "4. In a game, you have a deck of 40 cards, numbered from 1 to 40. If you draw two cards at random, what is the probability that the sum of the two numbers is divisible by 5?"
   ]
  },
  {
   "cell_type": "code",
   "execution_count": 6,
   "id": "bcec6764",
   "metadata": {},
   "outputs": [
    {
     "data": {
      "text/plain": [
       "0.20061"
      ]
     },
     "execution_count": 6,
     "metadata": {},
     "output_type": "execute_result"
    }
   ],
   "source": [
    "deck = np.arange(1,41)\n",
    "cards_draw = 2\n",
    "\n",
    "rand_selection = np.random.choice(deck, (iterations, cards_draw))\n",
    "\n",
    "rand_selection =(rand_selection).sum(axis=1) % 5 == 0\n",
    "\n",
    "rand_selection.mean()"
   ]
  },
  {
   "cell_type": "markdown",
   "id": "891559da",
   "metadata": {},
   "source": [
    "    - The probability that the sum of two cards drawn from a deck of 40 cards is divisible by 5 is approximately 0.197.\n",
    "\n",
    "5. A bag contains 10 red balls and 8 blue balls. Two balls are drawn from the bag with replacement. What is the probability of drawing a red ball on the first draw and a blue ball on the second draw?"
   ]
  },
  {
   "cell_type": "code",
   "execution_count": 7,
   "id": "285f9dd1",
   "metadata": {},
   "outputs": [
    {
     "data": {
      "text/plain": [
       "0.2503100945"
      ]
     },
     "execution_count": 7,
     "metadata": {},
     "output_type": "execute_result"
    }
   ],
   "source": [
    "balls = [\"red\", \"blue\"]\n",
    "weight = [10/18, 8/18]\n",
    "ball_draw = 2\n",
    "\n",
    "rand_selection = np.random.choice(balls, (iterations, ball_draw), weight)\n",
    "rand_selection_red = (rand_selection == \"red\").sum(axis=0)\n",
    "rand_selection_blue = (rand_selection == \"blue\").sum(axis=0)\n",
    "\n",
    "rand_selection_red[0] / iterations * rand_selection_blue[1] / iterations"
   ]
  },
  {
   "cell_type": "markdown",
   "id": "dc743ad8",
   "metadata": {},
   "source": [
    "    - The probability of drawing a red ball on the first draw and a blue ball on the second draw, with replacement, is approximately 0.2144 or 21.44%.\n",
    "\n",
    "6. A box contains 5 red socks and 4 white socks. If you randomly select three socks from the box without replacement, what is the probability of selecting two red socks and one white sock?"
   ]
  },
  {
   "cell_type": "code",
   "execution_count": 10,
   "id": "09a0cbf1",
   "metadata": {},
   "outputs": [
    {
     "data": {
      "text/plain": [
       "0.37479"
      ]
     },
     "execution_count": 10,
     "metadata": {},
     "output_type": "execute_result"
    }
   ],
   "source": [
    "sock = [\"red\", \"white\"]\n",
    "wight = [5/9, 4/9]\n",
    "num_evets = 3\n",
    "\n",
    "rand_selection = np.random.choice(sock, (iterations, num_evets), weight)\n",
    "\n",
    "rand_selection = ((rand_selection == \"red\").sum(axis=1) == 2) & ((rand_selection == \"white\").sum(axis=1) == 1)\n",
    "\n",
    "rand_selection.mean()"
   ]
  },
  {
   "cell_type": "markdown",
   "id": "27fdf7b9",
   "metadata": {},
   "source": [
    "    - The probability of selecting two red socks and one white sock when three socks are drawn without replacement is approximately 0.37479.\n",
    "\n",
    "7. In a card game, you have a standard deck of 52 cards. If you draw five cards at random, what is the probability of getting a full house (three cards of one rank and two cards of another rank)?"
   ]
  },
  {
   "cell_type": "code",
   "execution_count": 2,
   "id": "39f78038",
   "metadata": {},
   "outputs": [
    {
     "ename": "KeyboardInterrupt",
     "evalue": "",
     "output_type": "error",
     "traceback": [
      "\u001b[0;31m---------------------------------------------------------------------------\u001b[0m",
      "\u001b[0;31mKeyboardInterrupt\u001b[0m                         Traceback (most recent call last)",
      "Cell \u001b[0;32mIn[2], line 12\u001b[0m\n\u001b[1;32m      8\u001b[0m     \u001b[38;5;28;01mreturn\u001b[39;00m (\u001b[38;5;28mlen\u001b[39m(rank) \u001b[38;5;241m==\u001b[39m \u001b[38;5;241m2\u001b[39m) \u001b[38;5;241m&\u001b[39m (\u001b[38;5;241m3\u001b[39m \u001b[38;5;129;01min\u001b[39;00m counts) \u001b[38;5;241m&\u001b[39m (\u001b[38;5;241m2\u001b[39m \u001b[38;5;129;01min\u001b[39;00m counts)\n\u001b[1;32m     10\u001b[0m rand_selection\u001b[38;5;241m=\u001b[39m np\u001b[38;5;241m.\u001b[39mrandom\u001b[38;5;241m.\u001b[39mchoice(cards, (iterations, card_draw))\n\u001b[0;32m---> 12\u001b[0m is_full_house_selection \u001b[38;5;241m=\u001b[39m \u001b[43mnp\u001b[49m\u001b[38;5;241;43m.\u001b[39;49m\u001b[43mapply_along_axis\u001b[49m\u001b[43m(\u001b[49m\u001b[43mis_full_house\u001b[49m\u001b[43m,\u001b[49m\u001b[43m \u001b[49m\u001b[43maxis\u001b[49m\u001b[38;5;241;43m=\u001b[39;49m\u001b[38;5;241;43m1\u001b[39;49m\u001b[43m,\u001b[49m\u001b[43m \u001b[49m\u001b[43marr\u001b[49m\u001b[38;5;241;43m=\u001b[39;49m\u001b[43mrand_selection\u001b[49m\u001b[43m)\u001b[49m\n\u001b[1;32m     14\u001b[0m is_full_house_selection\n",
      "File \u001b[0;32m<__array_function__ internals>:180\u001b[0m, in \u001b[0;36mapply_along_axis\u001b[0;34m(*args, **kwargs)\u001b[0m\n",
      "File \u001b[0;32m/opt/homebrew/anaconda3/lib/python3.10/site-packages/numpy/lib/shape_base.py:402\u001b[0m, in \u001b[0;36mapply_along_axis\u001b[0;34m(func1d, axis, arr, *args, **kwargs)\u001b[0m\n\u001b[1;32m    400\u001b[0m buff[ind0] \u001b[38;5;241m=\u001b[39m res\n\u001b[1;32m    401\u001b[0m \u001b[38;5;28;01mfor\u001b[39;00m ind \u001b[38;5;129;01min\u001b[39;00m inds:\n\u001b[0;32m--> 402\u001b[0m     buff[ind] \u001b[38;5;241m=\u001b[39m asanyarray(\u001b[43mfunc1d\u001b[49m\u001b[43m(\u001b[49m\u001b[43minarr_view\u001b[49m\u001b[43m[\u001b[49m\u001b[43mind\u001b[49m\u001b[43m]\u001b[49m\u001b[43m,\u001b[49m\u001b[43m \u001b[49m\u001b[38;5;241;43m*\u001b[39;49m\u001b[43margs\u001b[49m\u001b[43m,\u001b[49m\u001b[43m \u001b[49m\u001b[38;5;241;43m*\u001b[39;49m\u001b[38;5;241;43m*\u001b[39;49m\u001b[43mkwargs\u001b[49m\u001b[43m)\u001b[49m)\n\u001b[1;32m    404\u001b[0m \u001b[38;5;28;01mif\u001b[39;00m \u001b[38;5;129;01mnot\u001b[39;00m \u001b[38;5;28misinstance\u001b[39m(res, matrix):\n\u001b[1;32m    405\u001b[0m     \u001b[38;5;66;03m# wrap the array, to preserve subclasses\u001b[39;00m\n\u001b[1;32m    406\u001b[0m     buff \u001b[38;5;241m=\u001b[39m res\u001b[38;5;241m.\u001b[39m__array_wrap__(buff)\n",
      "Cell \u001b[0;32mIn[2], line 7\u001b[0m, in \u001b[0;36mis_full_house\u001b[0;34m(hand)\u001b[0m\n\u001b[1;32m      6\u001b[0m \u001b[38;5;28;01mdef\u001b[39;00m \u001b[38;5;21mis_full_house\u001b[39m(hand):\n\u001b[0;32m----> 7\u001b[0m     rank, counts \u001b[38;5;241m=\u001b[39m \u001b[43mnp\u001b[49m\u001b[38;5;241;43m.\u001b[39;49m\u001b[43munique\u001b[49m\u001b[43m(\u001b[49m\u001b[43mrand_selection\u001b[49m\u001b[43m,\u001b[49m\u001b[43m \u001b[49m\u001b[43mreturn_counts\u001b[49m\u001b[38;5;241;43m=\u001b[39;49m\u001b[38;5;28;43;01mTrue\u001b[39;49;00m\u001b[43m)\u001b[49m\n\u001b[1;32m      8\u001b[0m     \u001b[38;5;28;01mreturn\u001b[39;00m (\u001b[38;5;28mlen\u001b[39m(rank) \u001b[38;5;241m==\u001b[39m \u001b[38;5;241m2\u001b[39m) \u001b[38;5;241m&\u001b[39m (\u001b[38;5;241m3\u001b[39m \u001b[38;5;129;01min\u001b[39;00m counts) \u001b[38;5;241m&\u001b[39m (\u001b[38;5;241m2\u001b[39m \u001b[38;5;129;01min\u001b[39;00m counts)\n",
      "File \u001b[0;32m<__array_function__ internals>:180\u001b[0m, in \u001b[0;36munique\u001b[0;34m(*args, **kwargs)\u001b[0m\n",
      "File \u001b[0;32m/opt/homebrew/anaconda3/lib/python3.10/site-packages/numpy/lib/arraysetops.py:274\u001b[0m, in \u001b[0;36munique\u001b[0;34m(ar, return_index, return_inverse, return_counts, axis, equal_nan)\u001b[0m\n\u001b[1;32m    272\u001b[0m ar \u001b[38;5;241m=\u001b[39m np\u001b[38;5;241m.\u001b[39masanyarray(ar)\n\u001b[1;32m    273\u001b[0m \u001b[38;5;28;01mif\u001b[39;00m axis \u001b[38;5;129;01mis\u001b[39;00m \u001b[38;5;28;01mNone\u001b[39;00m:\n\u001b[0;32m--> 274\u001b[0m     ret \u001b[38;5;241m=\u001b[39m \u001b[43m_unique1d\u001b[49m\u001b[43m(\u001b[49m\u001b[43mar\u001b[49m\u001b[43m,\u001b[49m\u001b[43m \u001b[49m\u001b[43mreturn_index\u001b[49m\u001b[43m,\u001b[49m\u001b[43m \u001b[49m\u001b[43mreturn_inverse\u001b[49m\u001b[43m,\u001b[49m\u001b[43m \u001b[49m\u001b[43mreturn_counts\u001b[49m\u001b[43m,\u001b[49m\u001b[43m \u001b[49m\n\u001b[1;32m    275\u001b[0m \u001b[43m                    \u001b[49m\u001b[43mequal_nan\u001b[49m\u001b[38;5;241;43m=\u001b[39;49m\u001b[43mequal_nan\u001b[49m\u001b[43m)\u001b[49m\n\u001b[1;32m    276\u001b[0m     \u001b[38;5;28;01mreturn\u001b[39;00m _unpack_tuple(ret)\n\u001b[1;32m    278\u001b[0m \u001b[38;5;66;03m# axis was specified and not None\u001b[39;00m\n",
      "File \u001b[0;32m/opt/homebrew/anaconda3/lib/python3.10/site-packages/numpy/lib/arraysetops.py:336\u001b[0m, in \u001b[0;36m_unique1d\u001b[0;34m(ar, return_index, return_inverse, return_counts, equal_nan)\u001b[0m\n\u001b[1;32m    334\u001b[0m     aux \u001b[38;5;241m=\u001b[39m ar[perm]\n\u001b[1;32m    335\u001b[0m \u001b[38;5;28;01melse\u001b[39;00m:\n\u001b[0;32m--> 336\u001b[0m     \u001b[43mar\u001b[49m\u001b[38;5;241;43m.\u001b[39;49m\u001b[43msort\u001b[49m\u001b[43m(\u001b[49m\u001b[43m)\u001b[49m\n\u001b[1;32m    337\u001b[0m     aux \u001b[38;5;241m=\u001b[39m ar\n\u001b[1;32m    338\u001b[0m mask \u001b[38;5;241m=\u001b[39m np\u001b[38;5;241m.\u001b[39mempty(aux\u001b[38;5;241m.\u001b[39mshape, dtype\u001b[38;5;241m=\u001b[39mnp\u001b[38;5;241m.\u001b[39mbool_)\n",
      "\u001b[0;31mKeyboardInterrupt\u001b[0m: "
     ]
    }
   ],
   "source": [
    "from scipy import stats\n",
    "\n",
    "cards = np.arange(1,14)\n",
    "card_draw = 5\n",
    "\n",
    "def is_full_house(hand):\n",
    "    rank, counts = np.unique(rand_selection, return_counts=True)\n",
    "    return (len(rank) == 2) & (3 in counts) & (2 in counts)\n",
    "\n",
    "rand_selection= np.random.choice(cards, (iterations, card_draw))\n",
    "\n",
    "is_full_house_selection = np.apply_along_axis(is_full_house, axis=1, arr=rand_selection)\n",
    "\n",
    "is_full_house_selection"
   ]
  },
  {
   "cell_type": "markdown",
   "id": "c7d4b100",
   "metadata": {},
   "source": [
    "    - The probability of getting a full house (three cards of one rank and two cards of another rank) when drawing five cards from a standard deck of 52 cards is approximately 0.0014 or 0.14%.\n",
    "\n",
    "8. A box contains 6 black balls, 4 white balls, and 5 green balls. If you randomly select three balls without replacement, what is the probability of selecting at least one black ball and one white ball?"
   ]
  },
  {
   "cell_type": "code",
   "execution_count": 8,
   "id": "7e6d58e6",
   "metadata": {},
   "outputs": [
    {
     "data": {
      "text/plain": [
       "0.33268"
      ]
     },
     "execution_count": 8,
     "metadata": {},
     "output_type": "execute_result"
    }
   ],
   "source": [
    "balls = [\"black\", \"white\", \"green\"]\n",
    "weight = [6/15, 4/15, 5/15]\n",
    "events = 3\n",
    "\n",
    "rand_selection= np.random.choice(balls, (iterations, events), weight)\n",
    "rand_selection = ((rand_selection == \"black\").sum(axis=1) >= 1) & (rand_selection == \"white\").sum(axis=1) == 1\n",
    "\n",
    "rand_selection.mean()"
   ]
  },
  {
   "cell_type": "markdown",
   "id": "70e50399",
   "metadata": {},
   "source": [
    "    - The probability of selecting at least one black ball and one white ball when three balls are drawn without replacement from a box containing 6 black balls, 4 white balls, and 5 green balls is approximately 0.33268.\n",
    "\n",
    "9. Two coins are flipped. What is the probability of getting at least one head?"
   ]
  },
  {
   "cell_type": "code",
   "execution_count": 11,
   "id": "d5888ebe",
   "metadata": {},
   "outputs": [
    {
     "data": {
      "text/plain": [
       "0.74986"
      ]
     },
     "execution_count": 11,
     "metadata": {},
     "output_type": "execute_result"
    }
   ],
   "source": [
    "coins = [\"head\", \"tail\"]\n",
    "\n",
    "rand_selection = np.random.choice(coins, (iterations,2))\n",
    "rand_selection = (rand_selection == \"head\").sum(axis=1) >= 1\n",
    "\n",
    "rand_selection.mean()"
   ]
  },
  {
   "cell_type": "markdown",
   "id": "aab0ee88",
   "metadata": {},
   "source": [
    "    - The probability of getting at least one head when two coins are flipped is approximately 0.7503 or 75.03%.\n",
    "\n",
    "10. A jar contains 5 red marbles, 3 blue marbles, and 2 green marbles. If you randomly select two marbles from the jar without replacement, what is the probability of selecting two marbles of different colors?"
   ]
  },
  {
   "cell_type": "code",
   "execution_count": 55,
   "id": "a5158952",
   "metadata": {},
   "outputs": [
    {
     "data": {
      "text/plain": [
       "array([['blue', 'blue'],\n",
       "       ['blue', 'green'],\n",
       "       ['green', 'green'],\n",
       "       ['green', 'blue'],\n",
       "       ['red', 'blue'],\n",
       "       ['green', 'red'],\n",
       "       ['red', 'green'],\n",
       "       ['green', 'red'],\n",
       "       ['green', 'green'],\n",
       "       ['red', 'red'],\n",
       "       ['blue', 'green'],\n",
       "       ['red', 'blue'],\n",
       "       ['green', 'blue'],\n",
       "       ['blue', 'blue'],\n",
       "       ['green', 'red'],\n",
       "       ['blue', 'red'],\n",
       "       ['red', 'red'],\n",
       "       ['blue', 'blue'],\n",
       "       ['blue', 'green'],\n",
       "       ['blue', 'green']], dtype='<U5')"
      ]
     },
     "execution_count": 55,
     "metadata": {},
     "output_type": "execute_result"
    }
   ],
   "source": [
    "marble = [\"red\", \"blue\", \"green\"]\n",
    "weight = [5/10,3/10,2/10]\n",
    "event = 2\n",
    "\n",
    "rand_selection = np.random.choice(marble, (20,event), weight)\n",
    "\n",
    "computed_uniqueness = np.unique(rand_selection, axis=1)\n",
    "lenght_applyed = np.apply_along_axis(np.size,axis=1,arr =computed_uniqueness)\n",
    "\n",
    "computed_uniqueness\n"
   ]
  },
  {
   "cell_type": "markdown",
   "id": "4fd49320",
   "metadata": {},
   "source": [
    "    - The probability of selecting two marbles of different colors when two marbles are drawn without replacement from a jar containing 5 red marbles, 3 blue marbles, and 2 green marbles is approximately 0.6813 or 68.13%."
   ]
  },
  {
   "cell_type": "code",
   "execution_count": null,
   "id": "e1d142d9",
   "metadata": {},
   "outputs": [],
   "source": []
  },
  {
   "cell_type": "code",
   "execution_count": null,
   "id": "8f4ee035",
   "metadata": {},
   "outputs": [],
   "source": []
  }
 ],
 "metadata": {
  "kernelspec": {
   "display_name": "Python 3 (ipykernel)",
   "language": "python",
   "name": "python3"
  },
  "language_info": {
   "codemirror_mode": {
    "name": "ipython",
    "version": 3
   },
   "file_extension": ".py",
   "mimetype": "text/x-python",
   "name": "python",
   "nbconvert_exporter": "python",
   "pygments_lexer": "ipython3",
   "version": "3.10.9"
  }
 },
 "nbformat": 4,
 "nbformat_minor": 5
}
