{
 "cells": [
  {
   "cell_type": "markdown",
   "id": "8d258a84",
   "metadata": {},
   "source": [
    "# Multiple-event probability problems\n",
    "\n",
    "Assum 100,000 simulations ran for each question."
   ]
  },
  {
   "cell_type": "code",
   "execution_count": 12,
   "id": "e954fe11",
   "metadata": {},
   "outputs": [],
   "source": [
    "# set imports\n",
    "import numpy as np\n",
    "import seaborn as sns\n",
    "import matplotlib.pyplot as plt\n",
    "\n",
    "# set my random seed\n",
    "np.random.seed(43)\n",
    "\n",
    "# gobal number of iterations\n",
    "iterations = 100_000"
   ]
  },
  {
   "cell_type": "markdown",
   "id": "02719ccb",
   "metadata": {},
   "source": [
    "1. Two dice are rolled. What is the probability that the sum of the two numbers rolled is equal to 7?"
   ]
  },
  {
   "cell_type": "code",
   "execution_count": 62,
   "id": "8b24e949",
   "metadata": {},
   "outputs": [
    {
     "data": {
      "text/plain": [
       "0.16425"
      ]
     },
     "execution_count": 62,
     "metadata": {},
     "output_type": "execute_result"
    }
   ],
   "source": [
    "# dice creation\n",
    "dice = np.arange(1,7)\n",
    "num_dice = 2\n",
    "\n",
    "# ran iterations and make random choices\n",
    "rand_selection = np.random.choice(a=dice, size=(iterations, num_dice))\n",
    "\n",
    "# find sum of two equaling 7\n",
    "rand_selection = rand_selection.sum(axis=1) == 7\n",
    "\n",
    "\n",
    "# get mean\n",
    "rand_selection.mean()"
   ]
  },
  {
   "cell_type": "markdown",
   "id": "7e49a8f3",
   "metadata": {},
   "source": [
    "    - The probability of rolling a sum of 7 on two dice is approximately 0.1667 or 16.67%.\n",
    "\n",
    "2. A bag contains 4 red balls, 3 blue balls, and 5 green balls. If you randomly select three balls without replacement, what is the probability of selecting exactly two red balls and one blue ball?"
   ]
  },
  {
   "cell_type": "code",
   "execution_count": 63,
   "id": "ff6bee2b",
   "metadata": {},
   "outputs": [
    {
     "data": {
      "text/plain": [
       "0.08448"
      ]
     },
     "execution_count": 63,
     "metadata": {},
     "output_type": "execute_result"
    }
   ],
   "source": [
    "balls = [\"red\", \"blue\", \"green\"]\n",
    "weight = [4/12, 3/12, 5/12]\n",
    "n_event = 3\n",
    "\n",
    "iterations = 100_000\n",
    "rand_selection = np.random.choice(a=balls, size=(iterations, n_event), p=weight)\n",
    "\n",
    "# Count the number of selections with exactly two red balls and one blue ball\n",
    "rand_selection = ((rand_selection == \"red\").sum(axis=1) == 2) & ((rand_selection == \"blue\").sum(axis=1) == 1)\n",
    "\n",
    "rand_selection = rand_selection.astype(int) # make then integers for the plot\n",
    "rand_selection_prob = rand_selection.mean()\n",
    "rand_selection_prob"
   ]
  },
  {
   "cell_type": "code",
   "execution_count": 64,
   "id": "f1888bf4",
   "metadata": {},
   "outputs": [
    {
     "data": {
      "image/png": "[encoded data removed]",
      "text/plain": [
       "<Figure size 500x300 with 1 Axes>"
      ]
     },
     "metadata": {},
     "output_type": "display_data"
    }
   ],
   "source": [
    "plt.figure(figsize=(5,3))\n",
    "sns.histplot(rand_selection)\n",
    "\n",
    "plt.xlabel(\"Probability\")\n",
    "plt.ylabel(\"Frequency\")\n",
    "plt.title(\"Distribution of Probability\")\n",
    "\n",
    "plt.xticks([0,1])\n",
    "plt.margins(x=.5)\n",
    "plt.show()"
   ]
  },
  {
   "cell_type": "markdown",
   "id": "a501d191",
   "metadata": {},
   "source": [
    "    - The probability of selecting exactly two red balls and one blue ball is approximately 0.08448.\n",
    "\n",
    "3. A box contains 6 red marbles and 4 white marbles. Two marbles are drawn from the box without replacement. What is the probability that both marbles drawn are red?"
   ]
  },
  {
   "cell_type": "code",
   "execution_count": 68,
   "id": "761f8564",
   "metadata": {},
   "outputs": [
    {
     "data": {
      "text/plain": [
       "0.24935"
      ]
     },
     "execution_count": 68,
     "metadata": {},
     "output_type": "execute_result"
    }
   ],
   "source": [
    "marble = [\"red\",  \"white\"]\n",
    "weight = [6/10, 4/10]\n",
    "marb_draw = 2\n",
    "\n",
    "rand_selection = np.random.choice(marble, (iterations,marb_draw), weight)\n",
    "\n",
    "rand_selection = (rand_selection == \"red\").sum(axis=1) == 2\n",
    "rand_selection.mean()"
   ]
  },
  {
   "cell_type": "markdown",
   "id": "3f6408f7",
   "metadata": {},
   "source": [
    "    - The probability of drawing two red marbles from the box without replacement is approximately 0.249.\n",
    "\n",
    "4. In a game, you have a deck of 40 cards, numbered from 1 to 40. If you draw two cards at random, what is the probability that the sum of the two numbers is divisible by 5?"
   ]
  },
  {
   "cell_type": "code",
   "execution_count": 18,
   "id": "bcec6764",
   "metadata": {},
   "outputs": [
    {
     "data": {
      "text/plain": [
       "0.1973"
      ]
     },
     "execution_count": 18,
     "metadata": {},
     "output_type": "execute_result"
    }
   ],
   "source": [
    "deck = np.arange(1,41)\n",
    "cards_draw = 2\n",
    "\n",
    "rand_selection = np.random.choice(deck, (iterations, cards_draw))\n",
    "\n",
    "rand_selection =(rand_selection).sum(axis=1) % 5 == 0\n",
    "\n",
    "rand_selection.mean()"
   ]
  },
  {
   "cell_type": "markdown",
   "id": "891559da",
   "metadata": {},
   "source": [
    "    - The probability that the sum of two cards drawn from a deck of 40 cards is divisible by 5 is approximately 0.197.\n",
    "\n",
    "5. A bag contains 10 red balls and 8 blue balls. Two balls are drawn from the bag with replacement. What is the probability of drawing a red ball on the first draw and a blue ball on the second draw?"
   ]
  },
  {
   "cell_type": "code",
   "execution_count": 76,
   "id": "285f9dd1",
   "metadata": {},
   "outputs": [
    {
     "data": {
      "text/plain": [
       "0.2495784603"
      ]
     },
     "execution_count": 76,
     "metadata": {},
     "output_type": "execute_result"
    }
   ],
   "source": [
    "balls = [\"red\", \"blue\"]\n",
    "weight = [10/18, 8/18]\n",
    "ball_draw = 2\n",
    "\n",
    "rand_selection = np.random.choice(balls, (iterations, ball_draw), weight)\n",
    "rand_selection_red = (rand_selection == \"red\").sum(axis=0)\n",
    "rand_selection_blue = (rand_selection == \"blue\").sum(axis=0)\n",
    "\n",
    "rand_selection_red[0] / iterations * rand_selection_blue[1] / iterations"
   ]
  },
  {
   "cell_type": "markdown",
   "id": "dc743ad8",
   "metadata": {},
   "source": [
    "    - The probability of drawing a red ball on the first draw and a blue ball on the second draw, with replacement, is approximately 0.2144 or 21.44%.\n",
    "\n",
    "6. A box contains 5 red socks and 4 white socks. If you randomly select three socks from the box without replacement, what is the probability of selecting two red socks and one white sock?"
   ]
  },
  {
   "cell_type": "code",
   "execution_count": null,
   "id": "09a0cbf1",
   "metadata": {},
   "outputs": [],
   "source": []
  },
  {
   "cell_type": "markdown",
   "id": "27fdf7b9",
   "metadata": {},
   "source": [
    "    - The probability of selecting two red socks and one white sock when three socks are drawn without replacement is approximately 0.3312 or 33.12%.\n",
    "\n",
    "7. In a card game, you have a standard deck of 52 cards. If you draw five cards at random, what is the probability of getting a full house (three cards of one rank and two cards of another rank)?"
   ]
  },
  {
   "cell_type": "code",
   "execution_count": null,
   "id": "39f78038",
   "metadata": {},
   "outputs": [],
   "source": []
  },
  {
   "cell_type": "markdown",
   "id": "c7d4b100",
   "metadata": {},
   "source": [
    "    - The probability of getting a full house (three cards of one rank and two cards of another rank) when drawing five cards from a standard deck of 52 cards is approximately 0.0014 or 0.14%.\n",
    "\n",
    "8. A box contains 6 black balls, 4 white balls, and 5 green balls. If you randomly select three balls without replacement, what is the probability of selecting at least one black ball and one white ball?"
   ]
  },
  {
   "cell_type": "code",
   "execution_count": null,
   "id": "7e6d58e6",
   "metadata": {},
   "outputs": [],
   "source": []
  },
  {
   "cell_type": "markdown",
   "id": "70e50399",
   "metadata": {},
   "source": [
    "    - The probability of selecting at least one black ball and one white ball when three balls are drawn without replacement from a box containing 6 black balls, 4 white balls, and 5 green balls is approximately 0.7588 or 75.88%.\n",
    "\n",
    "9. Two coins are flipped. What is the probability of getting at least one head?"
   ]
  },
  {
   "cell_type": "code",
   "execution_count": null,
   "id": "d5888ebe",
   "metadata": {},
   "outputs": [],
   "source": []
  },
  {
   "cell_type": "markdown",
   "id": "aab0ee88",
   "metadata": {},
   "source": [
    "    - The probability of getting at least one head when two coins are flipped is approximately 0.7503 or 75.03%.\n",
    "\n",
    "10. A jar contains 5 red marbles, 3 blue marbles, and 2 green marbles. If you randomly select two marbles from the jar without replacement, what is the probability of selecting two marbles of different colors?"
   ]
  },
  {
   "cell_type": "code",
   "execution_count": null,
   "id": "a5158952",
   "metadata": {},
   "outputs": [],
   "source": []
  },
  {
   "cell_type": "markdown",
   "id": "4fd49320",
   "metadata": {},
   "source": [
    "    - The probability of selecting two marbles of different colors when two marbles are drawn without replacement from a jar containing 5 red marbles, 3 blue marbles, and 2 green marbles is approximately 0.6813 or 68.13%."
   ]
  },
  {
   "cell_type": "code",
   "execution_count": null,
   "id": "e1d142d9",
   "metadata": {},
   "outputs": [],
   "source": []
  }
 ],
 "metadata": {
  "kernelspec": {
   "display_name": "Python 3 (ipykernel)",
   "language": "python",
   "name": "python3"
  },
  "language_info": {
   "codemirror_mode": {
    "name": "ipython",
    "version": 3
   },
   "file_extension": ".py",
   "mimetype": "text/x-python",
   "name": "python",
   "nbconvert_exporter": "python",
   "pygments_lexer": "ipython3",
   "version": "3.10.9"
  }
 },
 "nbformat": 4,
 "nbformat_minor": 5
}
