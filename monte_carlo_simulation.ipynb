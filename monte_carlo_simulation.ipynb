{
 "cells": [
  {
   "cell_type": "markdown",
   "id": "abded073",
   "metadata": {},
   "source": [
    "# Monte Carlo Simulation\n",
    "\n",
    "1. What is the approximate value of π (pi) using the Monte Carlo method?"
   ]
  },
  {
   "cell_type": "code",
   "execution_count": null,
   "id": "34a830ee",
   "metadata": {},
   "outputs": [],
   "source": []
  },
  {
   "cell_type": "markdown",
   "id": "1ddb1ef5",
   "metadata": {},
   "source": [
    "2. You have a rectangular garden with dimensions 10 meters by 5 meters. What is the probability that a randomly thrown dart lands within a circular pond with a radius of 2 meters placed in the garden?"
   ]
  },
  {
   "cell_type": "code",
   "execution_count": null,
   "id": "304c40ad",
   "metadata": {},
   "outputs": [],
   "source": []
  },
  {
   "cell_type": "markdown",
   "id": "d3557ce9",
   "metadata": {},
   "source": [
    "3. You have a fair six-sided die. What is the probability of rolling a 1 or a 2 using the Monte Carlo method?"
   ]
  },
  {
   "cell_type": "code",
   "execution_count": null,
   "id": "fd32376b",
   "metadata": {},
   "outputs": [],
   "source": []
  },
  {
   "cell_type": "markdown",
   "id": "d6bdbb48",
   "metadata": {},
   "source": [
    "4. In a game, you have a bag with 20 marbles: 10 red, 5 blue, and 5 green. What is the probability of randomly selecting two marbles of different colors using the Monte Carlo method?"
   ]
  },
  {
   "cell_type": "code",
   "execution_count": null,
   "id": "12fdc24f",
   "metadata": {},
   "outputs": [],
   "source": []
  },
  {
   "cell_type": "markdown",
   "id": "f30ee353",
   "metadata": {},
   "source": [
    "5. A car rental company has a fleet of 100 vehicles, of which 10% are luxury cars. If 5 cars are randomly selected, what is the probability that at least one of them is a luxury car using the Monte Carlo method?"
   ]
  },
  {
   "cell_type": "code",
   "execution_count": null,
   "id": "2c03b61c",
   "metadata": {},
   "outputs": [],
   "source": []
  },
  {
   "cell_type": "markdown",
   "id": "d89ffc05",
   "metadata": {},
   "source": [
    "6. You are playing a game where you flip a fair coin until you get heads. What is the average number of coin flips required to get heads using the Monte Carlo method?"
   ]
  },
  {
   "cell_type": "code",
   "execution_count": null,
   "id": "253bc7bf",
   "metadata": {},
   "outputs": [],
   "source": []
  },
  {
   "cell_type": "markdown",
   "id": "f5e67dec",
   "metadata": {},
   "source": [
    "7. A factory produces light bulbs, and the defective rate is 5%. If you randomly select 100 light bulbs, what is the probability that fewer than 8 of them are defective using the Monte Carlo method?"
   ]
  },
  {
   "cell_type": "code",
   "execution_count": null,
   "id": "7b743a71",
   "metadata": {},
   "outputs": [],
   "source": []
  },
  {
   "cell_type": "markdown",
   "id": "e559ada4",
   "metadata": {},
   "source": [
    "8. You are given a square with side length 2 units, and a circle with a radius of 1 unit is inscribed within the square. What is the probability that a randomly chosen point within the square lies inside the circle using the Monte Carlo method?"
   ]
  },
  {
   "cell_type": "code",
   "execution_count": null,
   "id": "cee13e17",
   "metadata": {},
   "outputs": [],
   "source": []
  },
  {
   "cell_type": "markdown",
   "id": "4e06ed7c",
   "metadata": {},
   "source": [
    "9. A game involves rolling two dice. What is the probability that the sum of the two numbers rolled is divisible by 3 using the Monte Carlo method?"
   ]
  },
  {
   "cell_type": "code",
   "execution_count": null,
   "id": "577ce151",
   "metadata": {},
   "outputs": [],
   "source": []
  },
  {
   "cell_type": "markdown",
   "id": "2b3d6a59",
   "metadata": {},
   "source": [
    "10. In a card game, you have a standard deck of 52 cards. What is the probability of drawing a flush (five cards of the same suit) using the Monte Carlo method?"
   ]
  },
  {
   "cell_type": "code",
   "execution_count": null,
   "id": "e74cb86f",
   "metadata": {},
   "outputs": [],
   "source": []
  },
  {
   "cell_type": "markdown",
   "id": "96a32065",
   "metadata": {},
   "source": [
    "## Bonus\n",
    "\n",
    "Supose you live in a city where every intersection is a pergect grids (4 way grid). You decide to go for a walk. At each intersection you chose your direction randomly. Your four choices are north, south, east, west and back tracking is permited. After you finish your walk, you check to see how far you are from where you began. If you are more than 4 blocks away, you will just walk. Otherwise you will pay for transport.\n",
    "\n",
    "What is th longest random walk you can take so that on average you will end up 4 blocks or fewer from your home?"
   ]
  },
  {
   "cell_type": "code",
   "execution_count": null,
   "id": "5ea20365",
   "metadata": {},
   "outputs": [],
   "source": []
  },
  {
   "cell_type": "markdown",
   "id": "949c63e3",
   "metadata": {},
   "source": [
    "## Bonus Challenge\n",
    "\n",
    "Find the longest random walk which will, on average, leave you less thatn 5 blocks from home?"
   ]
  },
  {
   "cell_type": "code",
   "execution_count": null,
   "id": "080e6928",
   "metadata": {},
   "outputs": [],
   "source": []
  }
 ],
 "metadata": {
  "kernelspec": {
   "display_name": "Python 3 (ipykernel)",
   "language": "python",
   "name": "python3"
  },
  "language_info": {
   "codemirror_mode": {
    "name": "ipython",
    "version": 3
   },
   "file_extension": ".py",
   "mimetype": "text/x-python",
   "name": "python",
   "nbconvert_exporter": "python",
   "pygments_lexer": "ipython3",
   "version": "3.10.9"
  }
 },
 "nbformat": 4,
 "nbformat_minor": 5
}
