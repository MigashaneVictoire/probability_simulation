{
 "cells": [
  {
   "cell_type": "markdown",
   "id": "17e94e0e",
   "metadata": {},
   "source": [
    "# Z-score Prolems\n",
    "\n",
    "1. The heights of students in a class are normally distributed with a mean of 165 cm and a standard deviation of 5 cm. What is the probability that a randomly selected student is taller than 170 cm?"
   ]
  },
  {
   "cell_type": "code",
   "execution_count": null,
   "id": "ef358f51",
   "metadata": {},
   "outputs": [],
   "source": []
  },
  {
   "cell_type": "markdown",
   "id": "3051d2ef",
   "metadata": {},
   "source": [
    "2. The average time it takes for a computer program to execute is 10 seconds with a standard deviation of 2 seconds. What is the probability that a randomly selected execution time is less than 8 seconds?"
   ]
  },
  {
   "cell_type": "code",
   "execution_count": null,
   "id": "92d269c5",
   "metadata": {},
   "outputs": [],
   "source": []
  },
  {
   "cell_type": "markdown",
   "id": "f692f866",
   "metadata": {},
   "source": [
    "3. The weights of a certain species of fish are normally distributed with a mean of 1.5 kg and a standard deviation of 0.3 kg. What is the probability that a randomly selected fish weighs between 1.2 kg and 1.8 kg?"
   ]
  },
  {
   "cell_type": "code",
   "execution_count": null,
   "id": "c352e6d5",
   "metadata": {},
   "outputs": [],
   "source": []
  },
  {
   "cell_type": "markdown",
   "id": "aa6a54af",
   "metadata": {},
   "source": [
    "4. The test scores of a class are normally distributed with a mean of 75 and a standard deviation of 10. What is the probability that a randomly selected student has a score higher than 85?"
   ]
  },
  {
   "cell_type": "code",
   "execution_count": null,
   "id": "41cef069",
   "metadata": {},
   "outputs": [],
   "source": []
  },
  {
   "cell_type": "markdown",
   "id": "981282c8",
   "metadata": {},
   "source": [
    "5. The lifetime of a certain brand of light bulbs is normally distributed with a mean of 1000 hours and a standard deviation of 100 hours. What is the probability that a randomly selected light bulb lasts between 800 and 1200 hours?"
   ]
  },
  {
   "cell_type": "code",
   "execution_count": null,
   "id": "4347391e",
   "metadata": {},
   "outputs": [],
   "source": []
  }
 ],
 "metadata": {
  "kernelspec": {
   "display_name": "Python 3 (ipykernel)",
   "language": "python",
   "name": "python3"
  },
  "language_info": {
   "codemirror_mode": {
    "name": "ipython",
    "version": 3
   },
   "file_extension": ".py",
   "mimetype": "text/x-python",
   "name": "python",
   "nbconvert_exporter": "python",
   "pygments_lexer": "ipython3",
   "version": "3.10.9"
  }
 },
 "nbformat": 4,
 "nbformat_minor": 5
}
